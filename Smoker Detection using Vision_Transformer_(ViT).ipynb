{
  "nbformat": 4,
  "nbformat_minor": 0,
  "metadata": {
    "colab": {
      "provenance": [],
      "gpuType": "T4"
    },
    "kernelspec": {
      "name": "python3",
      "display_name": "Python 3"
    },
    "language_info": {
      "name": "python"
    },
    "accelerator": "GPU"
  },
  "cells": [
    {
      "cell_type": "code",
      "source": [
        "!pip install vit_keras"
      ],
      "metadata": {
        "colab": {
          "base_uri": "https://localhost:8080/"
        },
        "id": "vZR6OzT-45-P",
        "outputId": "8d95bdf4-5bce-43e8-d131-02ec329d4902"
      },
      "execution_count": null,
      "outputs": [
        {
          "output_type": "stream",
          "name": "stdout",
          "text": [
            "Collecting vit_keras\n",
            "  Downloading vit_keras-0.1.2-py3-none-any.whl (24 kB)\n",
            "Requirement already satisfied: scipy in /usr/local/lib/python3.10/dist-packages (from vit_keras) (1.11.4)\n",
            "Collecting validators (from vit_keras)\n",
            "  Downloading validators-0.28.1-py3-none-any.whl (39 kB)\n",
            "Requirement already satisfied: numpy<1.28.0,>=1.21.6 in /usr/local/lib/python3.10/dist-packages (from scipy->vit_keras) (1.25.2)\n",
            "Installing collected packages: validators, vit_keras\n",
            "Successfully installed validators-0.28.1 vit_keras-0.1.2\n"
          ]
        }
      ]
    },
    {
      "cell_type": "code",
      "source": [
        "!pip install tensorflow-addons"
      ],
      "metadata": {
        "colab": {
          "base_uri": "https://localhost:8080/"
        },
        "id": "eOvsS2YB5Z_O",
        "outputId": "87f0d0e8-45ec-4d87-ed4c-15ca7f28ddcf"
      },
      "execution_count": null,
      "outputs": [
        {
          "output_type": "stream",
          "name": "stdout",
          "text": [
            "Collecting tensorflow-addons\n",
            "  Downloading tensorflow_addons-0.23.0-cp310-cp310-manylinux_2_17_x86_64.manylinux2014_x86_64.whl (611 kB)\n",
            "\u001b[2K     \u001b[90m━━━━━━━━━━━━━━━━━━━━━━━━━━━━━━━━━━━━━━━━\u001b[0m \u001b[32m611.8/611.8 kB\u001b[0m \u001b[31m7.8 MB/s\u001b[0m eta \u001b[36m0:00:00\u001b[0m\n",
            "\u001b[?25hRequirement already satisfied: packaging in /usr/local/lib/python3.10/dist-packages (from tensorflow-addons) (24.0)\n",
            "Collecting typeguard<3.0.0,>=2.7 (from tensorflow-addons)\n",
            "  Downloading typeguard-2.13.3-py3-none-any.whl (17 kB)\n",
            "Installing collected packages: typeguard, tensorflow-addons\n",
            "Successfully installed tensorflow-addons-0.23.0 typeguard-2.13.3\n"
          ]
        }
      ]
    },
    {
      "cell_type": "code",
      "source": [
        "!pip install shap"
      ],
      "metadata": {
        "colab": {
          "base_uri": "https://localhost:8080/"
        },
        "id": "j94BoWZ05rYW",
        "outputId": "647baee8-b40e-4a90-c119-b76b13448920"
      },
      "execution_count": null,
      "outputs": [
        {
          "output_type": "stream",
          "name": "stdout",
          "text": [
            "Collecting shap\n",
            "  Downloading shap-0.45.1-cp310-cp310-manylinux_2_12_x86_64.manylinux2010_x86_64.manylinux_2_17_x86_64.manylinux2014_x86_64.whl (540 kB)\n",
            "\u001b[?25l     \u001b[90m━━━━━━━━━━━━━━━━━━━━━━━━━━━━━━━━━━━━━━━━\u001b[0m \u001b[32m0.0/540.5 kB\u001b[0m \u001b[31m?\u001b[0m eta \u001b[36m-:--:--\u001b[0m\r\u001b[2K     \u001b[91m━━━━━━━━━━━━━━━━━━\u001b[0m\u001b[91m╸\u001b[0m\u001b[90m━━━━━━━━━━━━━━━━━━━━━\u001b[0m \u001b[32m256.0/540.5 kB\u001b[0m \u001b[31m7.5 MB/s\u001b[0m eta \u001b[36m0:00:01\u001b[0m\r\u001b[2K     \u001b[90m━━━━━━━━━━━━━━━━━━━━━━━━━━━━━━━━━━━━━━━━\u001b[0m \u001b[32m540.5/540.5 kB\u001b[0m \u001b[31m8.2 MB/s\u001b[0m eta \u001b[36m0:00:00\u001b[0m\n",
            "\u001b[?25hRequirement already satisfied: numpy in /usr/local/lib/python3.10/dist-packages (from shap) (1.25.2)\n",
            "Requirement already satisfied: scipy in /usr/local/lib/python3.10/dist-packages (from shap) (1.11.4)\n",
            "Requirement already satisfied: scikit-learn in /usr/local/lib/python3.10/dist-packages (from shap) (1.2.2)\n",
            "Requirement already satisfied: pandas in /usr/local/lib/python3.10/dist-packages (from shap) (2.0.3)\n",
            "Requirement already satisfied: tqdm>=4.27.0 in /usr/local/lib/python3.10/dist-packages (from shap) (4.66.4)\n",
            "Requirement already satisfied: packaging>20.9 in /usr/local/lib/python3.10/dist-packages (from shap) (24.0)\n",
            "Collecting slicer==0.0.8 (from shap)\n",
            "  Downloading slicer-0.0.8-py3-none-any.whl (15 kB)\n",
            "Requirement already satisfied: numba in /usr/local/lib/python3.10/dist-packages (from shap) (0.58.1)\n",
            "Requirement already satisfied: cloudpickle in /usr/local/lib/python3.10/dist-packages (from shap) (2.2.1)\n",
            "Requirement already satisfied: llvmlite<0.42,>=0.41.0dev0 in /usr/local/lib/python3.10/dist-packages (from numba->shap) (0.41.1)\n",
            "Requirement already satisfied: python-dateutil>=2.8.2 in /usr/local/lib/python3.10/dist-packages (from pandas->shap) (2.8.2)\n",
            "Requirement already satisfied: pytz>=2020.1 in /usr/local/lib/python3.10/dist-packages (from pandas->shap) (2023.4)\n",
            "Requirement already satisfied: tzdata>=2022.1 in /usr/local/lib/python3.10/dist-packages (from pandas->shap) (2024.1)\n",
            "Requirement already satisfied: joblib>=1.1.1 in /usr/local/lib/python3.10/dist-packages (from scikit-learn->shap) (1.4.2)\n",
            "Requirement already satisfied: threadpoolctl>=2.0.0 in /usr/local/lib/python3.10/dist-packages (from scikit-learn->shap) (3.5.0)\n",
            "Requirement already satisfied: six>=1.5 in /usr/local/lib/python3.10/dist-packages (from python-dateutil>=2.8.2->pandas->shap) (1.16.0)\n",
            "Installing collected packages: slicer, shap\n",
            "Successfully installed shap-0.45.1 slicer-0.0.8\n"
          ]
        }
      ]
    },
    {
      "cell_type": "code",
      "execution_count": null,
      "metadata": {
        "id": "PJuVgKAM4PCZ"
      },
      "outputs": [],
      "source": [
        "# Importing dependencies\n",
        "\n",
        "import os\n",
        "import warnings\n",
        "warnings.filterwarnings('ignore')\n",
        "\n",
        "import pandas as pd\n",
        "import numpy as np\n",
        "import matplotlib.pyplot as plt\n",
        "import cv2\n",
        "import re\n",
        "from vit_keras import vit\n",
        "\n",
        "from sklearn.utils import shuffle\n",
        "from sklearn.model_selection import train_test_split\n",
        "from sklearn.metrics import mean_squared_error, classification_report, confusion_matrix, ConfusionMatrixDisplay\n",
        "from sklearn.metrics import accuracy_score, f1_score\n",
        "\n",
        "\n",
        "import tensorflow as tf\n",
        "from tensorflow.keras.layers import Dense, Input, Flatten\n",
        "from tensorflow.keras.models import Model\n",
        "\n",
        "\n",
        "#import shap\n",
        "#shap.initjs()"
      ]
    },
    {
      "cell_type": "code",
      "source": [
        "IMG_SIZE = 224, 224\n",
        "BATCH_SIZE = 32\n",
        "SEED = 19\n",
        "AUTO = tf.data.AUTOTUNE"
      ],
      "metadata": {
        "id": "83b1cqhU4tL7"
      },
      "execution_count": null,
      "outputs": []
    },
    {
      "cell_type": "code",
      "source": [
        "# Creating main dataframe contains image paths and their classes.\n",
        "\n",
        "def create_images_list(path):\n",
        "    full_path = []\n",
        "    images = sorted(os.listdir(path))\n",
        "    for i in images:\n",
        "        full_path.append(os.path.join(path, i))\n",
        "\n",
        "    return full_path, images\n",
        "\n",
        "\n",
        "train_images = create_images_list('/content/drive/MyDrive/Smoking Image Detection with CNN/Image Dataset/Training')\n",
        "valid_imaged = create_images_list('/content/drive/MyDrive/Smoking Image Detection with CNN/Image Dataset/Validation')\n",
        "test_images = create_images_list('/content/drive/MyDrive/Smoking Image Detection with CNN/Image Dataset/Testing')\n",
        "\n",
        "# look-up table\n",
        "classes = {0:'not_smoking', 1 : 'smoking'}"
      ],
      "metadata": {
        "id": "UzLQZDTM50f4"
      },
      "execution_count": null,
      "outputs": []
    },
    {
      "cell_type": "code",
      "source": [
        "train_data = pd.DataFrame({'img': train_images[0], 'label': np.NaN, 'image_name': train_images[1]})\n",
        "valid_data = pd.DataFrame({'img': valid_imaged[0], 'label': np.NaN, 'image_name': valid_imaged[1]})\n",
        "test_data = pd.DataFrame({'img': test_images[0], 'label': np.NaN, 'image_name': test_images[1]})\n",
        "\n",
        "\n",
        "def create_class(X):\n",
        "    reg = re.split(\"_\", X)\n",
        "    if reg[0] == 'notsmoking':\n",
        "        return 0\n",
        "    elif reg[0] == 'smoking':\n",
        "        return 1\n",
        "    else:\n",
        "        print('wrong class ...')\n",
        "\n",
        "train_data['label'] = train_data['image_name'].apply(create_class)\n",
        "valid_data['label'] = valid_data['image_name'].apply(create_class)\n",
        "test_data['label'] = test_data['image_name'].apply(create_class)\n"
      ],
      "metadata": {
        "id": "nqo3j4Gk6DZW"
      },
      "execution_count": null,
      "outputs": []
    },
    {
      "cell_type": "code",
      "source": [
        "train_data = shuffle(train_data, random_state = SEED).reset_index(drop = True)\n",
        "valid_data = shuffle(valid_data, random_state = SEED).reset_index(drop = True)\n",
        "test_data = shuffle(test_data, random_state = SEED).reset_index(drop = True)\n",
        "\n",
        "\n",
        "print(\"train images -> \", train_data.shape[0])\n",
        "print(\"valid images -> \", valid_data.shape[0])\n",
        "print(\"test images -> \", test_data.shape[0])\n",
        "\n",
        "train_data.head()"
      ],
      "metadata": {
        "colab": {
          "base_uri": "https://localhost:8080/",
          "height": 260
        },
        "id": "DvV2ct5D6YWG",
        "outputId": "88a71061-f453-4529-adb7-76930ac6e6b5"
      },
      "execution_count": null,
      "outputs": [
        {
          "output_type": "stream",
          "name": "stdout",
          "text": [
            "train images ->  716\n",
            "valid images ->  180\n",
            "test images ->  224\n"
          ]
        },
        {
          "output_type": "execute_result",
          "data": {
            "text/plain": [
              "                                                 img  label  \\\n",
              "0  /content/drive/MyDrive/Smoking Image Detection...      1   \n",
              "1  /content/drive/MyDrive/Smoking Image Detection...      1   \n",
              "2  /content/drive/MyDrive/Smoking Image Detection...      1   \n",
              "3  /content/drive/MyDrive/Smoking Image Detection...      0   \n",
              "4  /content/drive/MyDrive/Smoking Image Detection...      0   \n",
              "\n",
              "            image_name  \n",
              "0     smoking_0141.jpg  \n",
              "1     smoking_0227.jpg  \n",
              "2     smoking_0410.jpg  \n",
              "3  notsmoking_0407.jpg  \n",
              "4  notsmoking_0093.jpg  "
            ],
            "text/html": [
              "\n",
              "  <div id=\"df-38ef997f-b804-488b-a52d-e34166a252bc\" class=\"colab-df-container\">\n",
              "    <div>\n",
              "<style scoped>\n",
              "    .dataframe tbody tr th:only-of-type {\n",
              "        vertical-align: middle;\n",
              "    }\n",
              "\n",
              "    .dataframe tbody tr th {\n",
              "        vertical-align: top;\n",
              "    }\n",
              "\n",
              "    .dataframe thead th {\n",
              "        text-align: right;\n",
              "    }\n",
              "</style>\n",
              "<table border=\"1\" class=\"dataframe\">\n",
              "  <thead>\n",
              "    <tr style=\"text-align: right;\">\n",
              "      <th></th>\n",
              "      <th>img</th>\n",
              "      <th>label</th>\n",
              "      <th>image_name</th>\n",
              "    </tr>\n",
              "  </thead>\n",
              "  <tbody>\n",
              "    <tr>\n",
              "      <th>0</th>\n",
              "      <td>/content/drive/MyDrive/Smoking Image Detection...</td>\n",
              "      <td>1</td>\n",
              "      <td>smoking_0141.jpg</td>\n",
              "    </tr>\n",
              "    <tr>\n",
              "      <th>1</th>\n",
              "      <td>/content/drive/MyDrive/Smoking Image Detection...</td>\n",
              "      <td>1</td>\n",
              "      <td>smoking_0227.jpg</td>\n",
              "    </tr>\n",
              "    <tr>\n",
              "      <th>2</th>\n",
              "      <td>/content/drive/MyDrive/Smoking Image Detection...</td>\n",
              "      <td>1</td>\n",
              "      <td>smoking_0410.jpg</td>\n",
              "    </tr>\n",
              "    <tr>\n",
              "      <th>3</th>\n",
              "      <td>/content/drive/MyDrive/Smoking Image Detection...</td>\n",
              "      <td>0</td>\n",
              "      <td>notsmoking_0407.jpg</td>\n",
              "    </tr>\n",
              "    <tr>\n",
              "      <th>4</th>\n",
              "      <td>/content/drive/MyDrive/Smoking Image Detection...</td>\n",
              "      <td>0</td>\n",
              "      <td>notsmoking_0093.jpg</td>\n",
              "    </tr>\n",
              "  </tbody>\n",
              "</table>\n",
              "</div>\n",
              "    <div class=\"colab-df-buttons\">\n",
              "\n",
              "  <div class=\"colab-df-container\">\n",
              "    <button class=\"colab-df-convert\" onclick=\"convertToInteractive('df-38ef997f-b804-488b-a52d-e34166a252bc')\"\n",
              "            title=\"Convert this dataframe to an interactive table.\"\n",
              "            style=\"display:none;\">\n",
              "\n",
              "  <svg xmlns=\"http://www.w3.org/2000/svg\" height=\"24px\" viewBox=\"0 -960 960 960\">\n",
              "    <path d=\"M120-120v-720h720v720H120Zm60-500h600v-160H180v160Zm220 220h160v-160H400v160Zm0 220h160v-160H400v160ZM180-400h160v-160H180v160Zm440 0h160v-160H620v160ZM180-180h160v-160H180v160Zm440 0h160v-160H620v160Z\"/>\n",
              "  </svg>\n",
              "    </button>\n",
              "\n",
              "  <style>\n",
              "    .colab-df-container {\n",
              "      display:flex;\n",
              "      gap: 12px;\n",
              "    }\n",
              "\n",
              "    .colab-df-convert {\n",
              "      background-color: #E8F0FE;\n",
              "      border: none;\n",
              "      border-radius: 50%;\n",
              "      cursor: pointer;\n",
              "      display: none;\n",
              "      fill: #1967D2;\n",
              "      height: 32px;\n",
              "      padding: 0 0 0 0;\n",
              "      width: 32px;\n",
              "    }\n",
              "\n",
              "    .colab-df-convert:hover {\n",
              "      background-color: #E2EBFA;\n",
              "      box-shadow: 0px 1px 2px rgba(60, 64, 67, 0.3), 0px 1px 3px 1px rgba(60, 64, 67, 0.15);\n",
              "      fill: #174EA6;\n",
              "    }\n",
              "\n",
              "    .colab-df-buttons div {\n",
              "      margin-bottom: 4px;\n",
              "    }\n",
              "\n",
              "    [theme=dark] .colab-df-convert {\n",
              "      background-color: #3B4455;\n",
              "      fill: #D2E3FC;\n",
              "    }\n",
              "\n",
              "    [theme=dark] .colab-df-convert:hover {\n",
              "      background-color: #434B5C;\n",
              "      box-shadow: 0px 1px 3px 1px rgba(0, 0, 0, 0.15);\n",
              "      filter: drop-shadow(0px 1px 2px rgba(0, 0, 0, 0.3));\n",
              "      fill: #FFFFFF;\n",
              "    }\n",
              "  </style>\n",
              "\n",
              "    <script>\n",
              "      const buttonEl =\n",
              "        document.querySelector('#df-38ef997f-b804-488b-a52d-e34166a252bc button.colab-df-convert');\n",
              "      buttonEl.style.display =\n",
              "        google.colab.kernel.accessAllowed ? 'block' : 'none';\n",
              "\n",
              "      async function convertToInteractive(key) {\n",
              "        const element = document.querySelector('#df-38ef997f-b804-488b-a52d-e34166a252bc');\n",
              "        const dataTable =\n",
              "          await google.colab.kernel.invokeFunction('convertToInteractive',\n",
              "                                                    [key], {});\n",
              "        if (!dataTable) return;\n",
              "\n",
              "        const docLinkHtml = 'Like what you see? Visit the ' +\n",
              "          '<a target=\"_blank\" href=https://colab.research.google.com/notebooks/data_table.ipynb>data table notebook</a>'\n",
              "          + ' to learn more about interactive tables.';\n",
              "        element.innerHTML = '';\n",
              "        dataTable['output_type'] = 'display_data';\n",
              "        await google.colab.output.renderOutput(dataTable, element);\n",
              "        const docLink = document.createElement('div');\n",
              "        docLink.innerHTML = docLinkHtml;\n",
              "        element.appendChild(docLink);\n",
              "      }\n",
              "    </script>\n",
              "  </div>\n",
              "\n",
              "\n",
              "<div id=\"df-81307080-06a6-4969-b6c9-3b9418e17b13\">\n",
              "  <button class=\"colab-df-quickchart\" onclick=\"quickchart('df-81307080-06a6-4969-b6c9-3b9418e17b13')\"\n",
              "            title=\"Suggest charts\"\n",
              "            style=\"display:none;\">\n",
              "\n",
              "<svg xmlns=\"http://www.w3.org/2000/svg\" height=\"24px\"viewBox=\"0 0 24 24\"\n",
              "     width=\"24px\">\n",
              "    <g>\n",
              "        <path d=\"M19 3H5c-1.1 0-2 .9-2 2v14c0 1.1.9 2 2 2h14c1.1 0 2-.9 2-2V5c0-1.1-.9-2-2-2zM9 17H7v-7h2v7zm4 0h-2V7h2v10zm4 0h-2v-4h2v4z\"/>\n",
              "    </g>\n",
              "</svg>\n",
              "  </button>\n",
              "\n",
              "<style>\n",
              "  .colab-df-quickchart {\n",
              "      --bg-color: #E8F0FE;\n",
              "      --fill-color: #1967D2;\n",
              "      --hover-bg-color: #E2EBFA;\n",
              "      --hover-fill-color: #174EA6;\n",
              "      --disabled-fill-color: #AAA;\n",
              "      --disabled-bg-color: #DDD;\n",
              "  }\n",
              "\n",
              "  [theme=dark] .colab-df-quickchart {\n",
              "      --bg-color: #3B4455;\n",
              "      --fill-color: #D2E3FC;\n",
              "      --hover-bg-color: #434B5C;\n",
              "      --hover-fill-color: #FFFFFF;\n",
              "      --disabled-bg-color: #3B4455;\n",
              "      --disabled-fill-color: #666;\n",
              "  }\n",
              "\n",
              "  .colab-df-quickchart {\n",
              "    background-color: var(--bg-color);\n",
              "    border: none;\n",
              "    border-radius: 50%;\n",
              "    cursor: pointer;\n",
              "    display: none;\n",
              "    fill: var(--fill-color);\n",
              "    height: 32px;\n",
              "    padding: 0;\n",
              "    width: 32px;\n",
              "  }\n",
              "\n",
              "  .colab-df-quickchart:hover {\n",
              "    background-color: var(--hover-bg-color);\n",
              "    box-shadow: 0 1px 2px rgba(60, 64, 67, 0.3), 0 1px 3px 1px rgba(60, 64, 67, 0.15);\n",
              "    fill: var(--button-hover-fill-color);\n",
              "  }\n",
              "\n",
              "  .colab-df-quickchart-complete:disabled,\n",
              "  .colab-df-quickchart-complete:disabled:hover {\n",
              "    background-color: var(--disabled-bg-color);\n",
              "    fill: var(--disabled-fill-color);\n",
              "    box-shadow: none;\n",
              "  }\n",
              "\n",
              "  .colab-df-spinner {\n",
              "    border: 2px solid var(--fill-color);\n",
              "    border-color: transparent;\n",
              "    border-bottom-color: var(--fill-color);\n",
              "    animation:\n",
              "      spin 1s steps(1) infinite;\n",
              "  }\n",
              "\n",
              "  @keyframes spin {\n",
              "    0% {\n",
              "      border-color: transparent;\n",
              "      border-bottom-color: var(--fill-color);\n",
              "      border-left-color: var(--fill-color);\n",
              "    }\n",
              "    20% {\n",
              "      border-color: transparent;\n",
              "      border-left-color: var(--fill-color);\n",
              "      border-top-color: var(--fill-color);\n",
              "    }\n",
              "    30% {\n",
              "      border-color: transparent;\n",
              "      border-left-color: var(--fill-color);\n",
              "      border-top-color: var(--fill-color);\n",
              "      border-right-color: var(--fill-color);\n",
              "    }\n",
              "    40% {\n",
              "      border-color: transparent;\n",
              "      border-right-color: var(--fill-color);\n",
              "      border-top-color: var(--fill-color);\n",
              "    }\n",
              "    60% {\n",
              "      border-color: transparent;\n",
              "      border-right-color: var(--fill-color);\n",
              "    }\n",
              "    80% {\n",
              "      border-color: transparent;\n",
              "      border-right-color: var(--fill-color);\n",
              "      border-bottom-color: var(--fill-color);\n",
              "    }\n",
              "    90% {\n",
              "      border-color: transparent;\n",
              "      border-bottom-color: var(--fill-color);\n",
              "    }\n",
              "  }\n",
              "</style>\n",
              "\n",
              "  <script>\n",
              "    async function quickchart(key) {\n",
              "      const quickchartButtonEl =\n",
              "        document.querySelector('#' + key + ' button');\n",
              "      quickchartButtonEl.disabled = true;  // To prevent multiple clicks.\n",
              "      quickchartButtonEl.classList.add('colab-df-spinner');\n",
              "      try {\n",
              "        const charts = await google.colab.kernel.invokeFunction(\n",
              "            'suggestCharts', [key], {});\n",
              "      } catch (error) {\n",
              "        console.error('Error during call to suggestCharts:', error);\n",
              "      }\n",
              "      quickchartButtonEl.classList.remove('colab-df-spinner');\n",
              "      quickchartButtonEl.classList.add('colab-df-quickchart-complete');\n",
              "    }\n",
              "    (() => {\n",
              "      let quickchartButtonEl =\n",
              "        document.querySelector('#df-81307080-06a6-4969-b6c9-3b9418e17b13 button');\n",
              "      quickchartButtonEl.style.display =\n",
              "        google.colab.kernel.accessAllowed ? 'block' : 'none';\n",
              "    })();\n",
              "  </script>\n",
              "</div>\n",
              "\n",
              "    </div>\n",
              "  </div>\n"
            ],
            "application/vnd.google.colaboratory.intrinsic+json": {
              "type": "dataframe",
              "variable_name": "train_data",
              "summary": "{\n  \"name\": \"train_data\",\n  \"rows\": 716,\n  \"fields\": [\n    {\n      \"column\": \"img\",\n      \"properties\": {\n        \"dtype\": \"string\",\n        \"num_unique_values\": 716,\n        \"samples\": [\n          \"/content/drive/MyDrive/Smoking Image Detection with CNN/Image Dataset/Training/notsmoking_0316.jpg\",\n          \"/content/drive/MyDrive/Smoking Image Detection with CNN/Image Dataset/Training/notsmoking_0064.jpg\",\n          \"/content/drive/MyDrive/Smoking Image Detection with CNN/Image Dataset/Training/notsmoking_0156.jpg\"\n        ],\n        \"semantic_type\": \"\",\n        \"description\": \"\"\n      }\n    },\n    {\n      \"column\": \"label\",\n      \"properties\": {\n        \"dtype\": \"number\",\n        \"std\": 0,\n        \"min\": 0,\n        \"max\": 1,\n        \"num_unique_values\": 2,\n        \"samples\": [\n          0,\n          1\n        ],\n        \"semantic_type\": \"\",\n        \"description\": \"\"\n      }\n    },\n    {\n      \"column\": \"image_name\",\n      \"properties\": {\n        \"dtype\": \"string\",\n        \"num_unique_values\": 716,\n        \"samples\": [\n          \"notsmoking_0316.jpg\",\n          \"notsmoking_0064.jpg\"\n        ],\n        \"semantic_type\": \"\",\n        \"description\": \"\"\n      }\n    }\n  ]\n}"
            }
          },
          "metadata": {},
          "execution_count": 8
        }
      ]
    },
    {
      "cell_type": "code",
      "source": [
        "test_data.head()"
      ],
      "metadata": {
        "colab": {
          "base_uri": "https://localhost:8080/",
          "height": 206
        },
        "id": "aSz1m1-3oGLs",
        "outputId": "2a6eed73-68db-4b38-a30e-c522e3c5a4a0"
      },
      "execution_count": null,
      "outputs": [
        {
          "output_type": "execute_result",
          "data": {
            "text/plain": [
              "                                                 img  label  \\\n",
              "0  /content/drive/MyDrive/Smoking Image Detection...      0   \n",
              "1  /content/drive/MyDrive/Smoking Image Detection...      1   \n",
              "2  /content/drive/MyDrive/Smoking Image Detection...      1   \n",
              "3  /content/drive/MyDrive/Smoking Image Detection...      0   \n",
              "4  /content/drive/MyDrive/Smoking Image Detection...      1   \n",
              "\n",
              "            image_name  \n",
              "0  notsmoking_0500.jpg  \n",
              "1     smoking_0254.jpg  \n",
              "2     smoking_0277.jpg  \n",
              "3  notsmoking_0549.jpg  \n",
              "4     smoking_0407.jpg  "
            ],
            "text/html": [
              "\n",
              "  <div id=\"df-bed9221b-7b1b-4b87-bd78-29acaa1fe288\" class=\"colab-df-container\">\n",
              "    <div>\n",
              "<style scoped>\n",
              "    .dataframe tbody tr th:only-of-type {\n",
              "        vertical-align: middle;\n",
              "    }\n",
              "\n",
              "    .dataframe tbody tr th {\n",
              "        vertical-align: top;\n",
              "    }\n",
              "\n",
              "    .dataframe thead th {\n",
              "        text-align: right;\n",
              "    }\n",
              "</style>\n",
              "<table border=\"1\" class=\"dataframe\">\n",
              "  <thead>\n",
              "    <tr style=\"text-align: right;\">\n",
              "      <th></th>\n",
              "      <th>img</th>\n",
              "      <th>label</th>\n",
              "      <th>image_name</th>\n",
              "    </tr>\n",
              "  </thead>\n",
              "  <tbody>\n",
              "    <tr>\n",
              "      <th>0</th>\n",
              "      <td>/content/drive/MyDrive/Smoking Image Detection...</td>\n",
              "      <td>0</td>\n",
              "      <td>notsmoking_0500.jpg</td>\n",
              "    </tr>\n",
              "    <tr>\n",
              "      <th>1</th>\n",
              "      <td>/content/drive/MyDrive/Smoking Image Detection...</td>\n",
              "      <td>1</td>\n",
              "      <td>smoking_0254.jpg</td>\n",
              "    </tr>\n",
              "    <tr>\n",
              "      <th>2</th>\n",
              "      <td>/content/drive/MyDrive/Smoking Image Detection...</td>\n",
              "      <td>1</td>\n",
              "      <td>smoking_0277.jpg</td>\n",
              "    </tr>\n",
              "    <tr>\n",
              "      <th>3</th>\n",
              "      <td>/content/drive/MyDrive/Smoking Image Detection...</td>\n",
              "      <td>0</td>\n",
              "      <td>notsmoking_0549.jpg</td>\n",
              "    </tr>\n",
              "    <tr>\n",
              "      <th>4</th>\n",
              "      <td>/content/drive/MyDrive/Smoking Image Detection...</td>\n",
              "      <td>1</td>\n",
              "      <td>smoking_0407.jpg</td>\n",
              "    </tr>\n",
              "  </tbody>\n",
              "</table>\n",
              "</div>\n",
              "    <div class=\"colab-df-buttons\">\n",
              "\n",
              "  <div class=\"colab-df-container\">\n",
              "    <button class=\"colab-df-convert\" onclick=\"convertToInteractive('df-bed9221b-7b1b-4b87-bd78-29acaa1fe288')\"\n",
              "            title=\"Convert this dataframe to an interactive table.\"\n",
              "            style=\"display:none;\">\n",
              "\n",
              "  <svg xmlns=\"http://www.w3.org/2000/svg\" height=\"24px\" viewBox=\"0 -960 960 960\">\n",
              "    <path d=\"M120-120v-720h720v720H120Zm60-500h600v-160H180v160Zm220 220h160v-160H400v160Zm0 220h160v-160H400v160ZM180-400h160v-160H180v160Zm440 0h160v-160H620v160ZM180-180h160v-160H180v160Zm440 0h160v-160H620v160Z\"/>\n",
              "  </svg>\n",
              "    </button>\n",
              "\n",
              "  <style>\n",
              "    .colab-df-container {\n",
              "      display:flex;\n",
              "      gap: 12px;\n",
              "    }\n",
              "\n",
              "    .colab-df-convert {\n",
              "      background-color: #E8F0FE;\n",
              "      border: none;\n",
              "      border-radius: 50%;\n",
              "      cursor: pointer;\n",
              "      display: none;\n",
              "      fill: #1967D2;\n",
              "      height: 32px;\n",
              "      padding: 0 0 0 0;\n",
              "      width: 32px;\n",
              "    }\n",
              "\n",
              "    .colab-df-convert:hover {\n",
              "      background-color: #E2EBFA;\n",
              "      box-shadow: 0px 1px 2px rgba(60, 64, 67, 0.3), 0px 1px 3px 1px rgba(60, 64, 67, 0.15);\n",
              "      fill: #174EA6;\n",
              "    }\n",
              "\n",
              "    .colab-df-buttons div {\n",
              "      margin-bottom: 4px;\n",
              "    }\n",
              "\n",
              "    [theme=dark] .colab-df-convert {\n",
              "      background-color: #3B4455;\n",
              "      fill: #D2E3FC;\n",
              "    }\n",
              "\n",
              "    [theme=dark] .colab-df-convert:hover {\n",
              "      background-color: #434B5C;\n",
              "      box-shadow: 0px 1px 3px 1px rgba(0, 0, 0, 0.15);\n",
              "      filter: drop-shadow(0px 1px 2px rgba(0, 0, 0, 0.3));\n",
              "      fill: #FFFFFF;\n",
              "    }\n",
              "  </style>\n",
              "\n",
              "    <script>\n",
              "      const buttonEl =\n",
              "        document.querySelector('#df-bed9221b-7b1b-4b87-bd78-29acaa1fe288 button.colab-df-convert');\n",
              "      buttonEl.style.display =\n",
              "        google.colab.kernel.accessAllowed ? 'block' : 'none';\n",
              "\n",
              "      async function convertToInteractive(key) {\n",
              "        const element = document.querySelector('#df-bed9221b-7b1b-4b87-bd78-29acaa1fe288');\n",
              "        const dataTable =\n",
              "          await google.colab.kernel.invokeFunction('convertToInteractive',\n",
              "                                                    [key], {});\n",
              "        if (!dataTable) return;\n",
              "\n",
              "        const docLinkHtml = 'Like what you see? Visit the ' +\n",
              "          '<a target=\"_blank\" href=https://colab.research.google.com/notebooks/data_table.ipynb>data table notebook</a>'\n",
              "          + ' to learn more about interactive tables.';\n",
              "        element.innerHTML = '';\n",
              "        dataTable['output_type'] = 'display_data';\n",
              "        await google.colab.output.renderOutput(dataTable, element);\n",
              "        const docLink = document.createElement('div');\n",
              "        docLink.innerHTML = docLinkHtml;\n",
              "        element.appendChild(docLink);\n",
              "      }\n",
              "    </script>\n",
              "  </div>\n",
              "\n",
              "\n",
              "<div id=\"df-48f8f110-5e5b-4c69-9dc2-89865e763fb6\">\n",
              "  <button class=\"colab-df-quickchart\" onclick=\"quickchart('df-48f8f110-5e5b-4c69-9dc2-89865e763fb6')\"\n",
              "            title=\"Suggest charts\"\n",
              "            style=\"display:none;\">\n",
              "\n",
              "<svg xmlns=\"http://www.w3.org/2000/svg\" height=\"24px\"viewBox=\"0 0 24 24\"\n",
              "     width=\"24px\">\n",
              "    <g>\n",
              "        <path d=\"M19 3H5c-1.1 0-2 .9-2 2v14c0 1.1.9 2 2 2h14c1.1 0 2-.9 2-2V5c0-1.1-.9-2-2-2zM9 17H7v-7h2v7zm4 0h-2V7h2v10zm4 0h-2v-4h2v4z\"/>\n",
              "    </g>\n",
              "</svg>\n",
              "  </button>\n",
              "\n",
              "<style>\n",
              "  .colab-df-quickchart {\n",
              "      --bg-color: #E8F0FE;\n",
              "      --fill-color: #1967D2;\n",
              "      --hover-bg-color: #E2EBFA;\n",
              "      --hover-fill-color: #174EA6;\n",
              "      --disabled-fill-color: #AAA;\n",
              "      --disabled-bg-color: #DDD;\n",
              "  }\n",
              "\n",
              "  [theme=dark] .colab-df-quickchart {\n",
              "      --bg-color: #3B4455;\n",
              "      --fill-color: #D2E3FC;\n",
              "      --hover-bg-color: #434B5C;\n",
              "      --hover-fill-color: #FFFFFF;\n",
              "      --disabled-bg-color: #3B4455;\n",
              "      --disabled-fill-color: #666;\n",
              "  }\n",
              "\n",
              "  .colab-df-quickchart {\n",
              "    background-color: var(--bg-color);\n",
              "    border: none;\n",
              "    border-radius: 50%;\n",
              "    cursor: pointer;\n",
              "    display: none;\n",
              "    fill: var(--fill-color);\n",
              "    height: 32px;\n",
              "    padding: 0;\n",
              "    width: 32px;\n",
              "  }\n",
              "\n",
              "  .colab-df-quickchart:hover {\n",
              "    background-color: var(--hover-bg-color);\n",
              "    box-shadow: 0 1px 2px rgba(60, 64, 67, 0.3), 0 1px 3px 1px rgba(60, 64, 67, 0.15);\n",
              "    fill: var(--button-hover-fill-color);\n",
              "  }\n",
              "\n",
              "  .colab-df-quickchart-complete:disabled,\n",
              "  .colab-df-quickchart-complete:disabled:hover {\n",
              "    background-color: var(--disabled-bg-color);\n",
              "    fill: var(--disabled-fill-color);\n",
              "    box-shadow: none;\n",
              "  }\n",
              "\n",
              "  .colab-df-spinner {\n",
              "    border: 2px solid var(--fill-color);\n",
              "    border-color: transparent;\n",
              "    border-bottom-color: var(--fill-color);\n",
              "    animation:\n",
              "      spin 1s steps(1) infinite;\n",
              "  }\n",
              "\n",
              "  @keyframes spin {\n",
              "    0% {\n",
              "      border-color: transparent;\n",
              "      border-bottom-color: var(--fill-color);\n",
              "      border-left-color: var(--fill-color);\n",
              "    }\n",
              "    20% {\n",
              "      border-color: transparent;\n",
              "      border-left-color: var(--fill-color);\n",
              "      border-top-color: var(--fill-color);\n",
              "    }\n",
              "    30% {\n",
              "      border-color: transparent;\n",
              "      border-left-color: var(--fill-color);\n",
              "      border-top-color: var(--fill-color);\n",
              "      border-right-color: var(--fill-color);\n",
              "    }\n",
              "    40% {\n",
              "      border-color: transparent;\n",
              "      border-right-color: var(--fill-color);\n",
              "      border-top-color: var(--fill-color);\n",
              "    }\n",
              "    60% {\n",
              "      border-color: transparent;\n",
              "      border-right-color: var(--fill-color);\n",
              "    }\n",
              "    80% {\n",
              "      border-color: transparent;\n",
              "      border-right-color: var(--fill-color);\n",
              "      border-bottom-color: var(--fill-color);\n",
              "    }\n",
              "    90% {\n",
              "      border-color: transparent;\n",
              "      border-bottom-color: var(--fill-color);\n",
              "    }\n",
              "  }\n",
              "</style>\n",
              "\n",
              "  <script>\n",
              "    async function quickchart(key) {\n",
              "      const quickchartButtonEl =\n",
              "        document.querySelector('#' + key + ' button');\n",
              "      quickchartButtonEl.disabled = true;  // To prevent multiple clicks.\n",
              "      quickchartButtonEl.classList.add('colab-df-spinner');\n",
              "      try {\n",
              "        const charts = await google.colab.kernel.invokeFunction(\n",
              "            'suggestCharts', [key], {});\n",
              "      } catch (error) {\n",
              "        console.error('Error during call to suggestCharts:', error);\n",
              "      }\n",
              "      quickchartButtonEl.classList.remove('colab-df-spinner');\n",
              "      quickchartButtonEl.classList.add('colab-df-quickchart-complete');\n",
              "    }\n",
              "    (() => {\n",
              "      let quickchartButtonEl =\n",
              "        document.querySelector('#df-48f8f110-5e5b-4c69-9dc2-89865e763fb6 button');\n",
              "      quickchartButtonEl.style.display =\n",
              "        google.colab.kernel.accessAllowed ? 'block' : 'none';\n",
              "    })();\n",
              "  </script>\n",
              "</div>\n",
              "\n",
              "    </div>\n",
              "  </div>\n"
            ],
            "application/vnd.google.colaboratory.intrinsic+json": {
              "type": "dataframe",
              "variable_name": "test_data",
              "summary": "{\n  \"name\": \"test_data\",\n  \"rows\": 224,\n  \"fields\": [\n    {\n      \"column\": \"img\",\n      \"properties\": {\n        \"dtype\": \"string\",\n        \"num_unique_values\": 224,\n        \"samples\": [\n          \"/content/drive/MyDrive/Smoking Image Detection with CNN/Image Dataset/Testing/notsmoking_0120.jpg\",\n          \"/content/drive/MyDrive/Smoking Image Detection with CNN/Image Dataset/Testing/smoking_0397.jpg\",\n          \"/content/drive/MyDrive/Smoking Image Detection with CNN/Image Dataset/Testing/notsmoking_0442.jpg\"\n        ],\n        \"semantic_type\": \"\",\n        \"description\": \"\"\n      }\n    },\n    {\n      \"column\": \"label\",\n      \"properties\": {\n        \"dtype\": \"number\",\n        \"std\": 0,\n        \"min\": 0,\n        \"max\": 1,\n        \"num_unique_values\": 2,\n        \"samples\": [\n          1,\n          0\n        ],\n        \"semantic_type\": \"\",\n        \"description\": \"\"\n      }\n    },\n    {\n      \"column\": \"image_name\",\n      \"properties\": {\n        \"dtype\": \"string\",\n        \"num_unique_values\": 224,\n        \"samples\": [\n          \"notsmoking_0120.jpg\",\n          \"smoking_0397.jpg\"\n        ],\n        \"semantic_type\": \"\",\n        \"description\": \"\"\n      }\n    }\n  ]\n}"
            }
          },
          "metadata": {},
          "execution_count": 18
        }
      ]
    },
    {
      "cell_type": "code",
      "source": [
        "test_data['label']"
      ],
      "metadata": {
        "colab": {
          "base_uri": "https://localhost:8080/"
        },
        "id": "erVK3POGoUIH",
        "outputId": "b3fc2482-cd23-4238-fa91-0d3d3b407175"
      },
      "execution_count": null,
      "outputs": [
        {
          "output_type": "execute_result",
          "data": {
            "text/plain": [
              "0      0\n",
              "1      1\n",
              "2      1\n",
              "3      0\n",
              "4      1\n",
              "      ..\n",
              "219    0\n",
              "220    1\n",
              "221    0\n",
              "222    0\n",
              "223    0\n",
              "Name: label, Length: 224, dtype: int64"
            ]
          },
          "metadata": {},
          "execution_count": 19
        }
      ]
    },
    {
      "cell_type": "code",
      "source": [
        "y_test = test_data['label']\n",
        "y_test"
      ],
      "metadata": {
        "colab": {
          "base_uri": "https://localhost:8080/"
        },
        "id": "cGGglNdIoOrP",
        "outputId": "c67e0a2b-4e1b-4a81-a7bb-f6444c2ab740"
      },
      "execution_count": null,
      "outputs": [
        {
          "output_type": "execute_result",
          "data": {
            "text/plain": [
              "0      0\n",
              "1      1\n",
              "2      1\n",
              "3      0\n",
              "4      1\n",
              "      ..\n",
              "219    0\n",
              "220    1\n",
              "221    0\n",
              "222    0\n",
              "223    0\n",
              "Name: label, Length: 224, dtype: int64"
            ]
          },
          "metadata": {},
          "execution_count": 20
        }
      ]
    },
    {
      "cell_type": "code",
      "source": [
        "# Reading -> Resizing -> Normalization\n",
        "def img_preprocessing(image, label):\n",
        "    img = tf.io.read_file(image)\n",
        "    img = tf.io.decode_jpeg(img, channels = 3)\n",
        "    img = tf.image.resize(img, size = (IMG_SIZE))\n",
        "    img = tf.cast(img, tf.float32) / 255.0\n",
        "\n",
        "    return img, label\n",
        "\n",
        "\n",
        "# Data augmentation\n",
        "def augmentation(image, label):\n",
        "    img = tf.image.random_flip_left_right(image, seed = SEED)\n",
        "    img = tf.image.random_flip_up_down(img, seed = SEED)\n",
        "    img = tf.image.random_brightness(img, 0.1, seed = SEED)\n",
        "    img = tf.image.random_contrast(img, 0.2, 0.4, seed = SEED)\n",
        "    img = tf.image.random_saturation(img, 2, 5, seed = SEED)\n",
        "\n",
        "    return img, label"
      ],
      "metadata": {
        "id": "NLxlVM0a6caV"
      },
      "execution_count": null,
      "outputs": []
    },
    {
      "cell_type": "code",
      "source": [
        "# Creating dataset loaders and tf.datasets\n",
        "\n",
        "train_loader = tf.data.Dataset.from_tensor_slices((train_data['img'], train_data['label']))\n",
        "train_dataset = (train_loader\n",
        "                 .map(img_preprocessing, num_parallel_calls = AUTO)\n",
        "                 .map(augmentation, num_parallel_calls = AUTO)\n",
        "                 .shuffle(BATCH_SIZE * 10)\n",
        "                 .batch(BATCH_SIZE)\n",
        "                 .prefetch(AUTO))\n",
        "\n",
        "\n",
        "# Training dataset without shuffling and data augmantation operations for the classification stage\n",
        "train_loader_feature = tf.data.Dataset.from_tensor_slices((train_data['img'], train_data['label']))\n",
        "train_dataset_feature = (train_loader_feature\n",
        "                         .map(img_preprocessing, num_parallel_calls = AUTO)\n",
        "                         .batch(BATCH_SIZE)\n",
        "                         .prefetch(AUTO))\n",
        "\n",
        "valid_loader = tf.data.Dataset.from_tensor_slices((valid_data['img'], valid_data['label']))\n",
        "valid_dataset = (valid_loader\n",
        "                 .map(img_preprocessing, num_parallel_calls = AUTO)\n",
        "                 .batch(BATCH_SIZE)\n",
        "                 .prefetch(AUTO))\n",
        "\n",
        "\n",
        "test_loader = tf.data.Dataset.from_tensor_slices((test_data['img'], test_data['label']))\n",
        "test_dataset = (test_loader\n",
        "                 .map(img_preprocessing, num_parallel_calls = AUTO)\n",
        "                 .batch(BATCH_SIZE)\n",
        "                 .prefetch(AUTO))"
      ],
      "metadata": {
        "id": "KX-yX1GG6ief"
      },
      "execution_count": null,
      "outputs": []
    },
    {
      "cell_type": "code",
      "source": [
        "# Creatin mirrored strategy and the model\n",
        "\n",
        "stg = tf.distribute.MirroredStrategy()"
      ],
      "metadata": {
        "id": "9Ugm7WQD7W3a"
      },
      "execution_count": null,
      "outputs": []
    },
    {
      "cell_type": "code",
      "source": [
        "from vit_keras import vit\n",
        "\n",
        "with stg.scope():\n",
        "    vit_model = vit.vit_b16(image_size = IMG_SIZE, activation = 'softmax', pretrained = True, include_top = False, pretrained_top = False, classes = 2)\n",
        "\n",
        "    inp = Input(shape = (*IMG_SIZE, 3))\n",
        "    vit = vit_model(inp)\n",
        "    X = Flatten()(vit)\n",
        "    X = Dense(64, activation = 'gelu', name = 'the_feature_layer')(X)\n",
        "    X = Dense(16, activation = 'gelu')(X)\n",
        "    out = Dense(2, activation = 'softmax')(X)\n",
        "\n",
        "    model = Model(inputs = inp, outputs = out)\n",
        "    model.summary()\n",
        "\n",
        "    model.compile(optimizer = tf.keras.optimizers.Adam(learning_rate = 0.0001, weight_decay = 0.0001),\n",
        "              loss = tf.keras.losses.SparseCategoricalCrossentropy(),\n",
        "              metrics = ['acc'] )"
      ],
      "metadata": {
        "colab": {
          "base_uri": "https://localhost:8080/"
        },
        "id": "CiSqq6_U6xVS",
        "outputId": "fc81b916-3b65-420a-eb97-b2668b600abb"
      },
      "execution_count": null,
      "outputs": [
        {
          "output_type": "stream",
          "name": "stdout",
          "text": [
            "Downloading data from https://github.com/faustomorales/vit-keras/releases/download/dl/ViT-B_16_imagenet21k+imagenet2012.npz\n",
            "347502902/347502902 [==============================] - 2s 0us/step\n",
            "Model: \"model\"\n",
            "_________________________________________________________________\n",
            " Layer (type)                Output Shape              Param #   \n",
            "=================================================================\n",
            " input_2 (InputLayer)        [(None, 224, 224, 3)]     0         \n",
            "                                                                 \n",
            " vit-b16 (Functional)        (None, 768)               85798656  \n",
            "                                                                 \n",
            " flatten (Flatten)           (None, 768)               0         \n",
            "                                                                 \n",
            " the_feature_layer (Dense)   (None, 64)                49216     \n",
            "                                                                 \n",
            " dense (Dense)               (None, 16)                1040      \n",
            "                                                                 \n",
            " dense_1 (Dense)             (None, 2)                 34        \n",
            "                                                                 \n",
            "=================================================================\n",
            "Total params: 85848946 (327.49 MB)\n",
            "Trainable params: 85848946 (327.49 MB)\n",
            "Non-trainable params: 0 (0.00 Byte)\n",
            "_________________________________________________________________\n"
          ]
        }
      ]
    },
    {
      "cell_type": "code",
      "source": [
        "# Training feature extraction model and saved\n",
        "\n",
        "hist = model.fit(train_dataset, epochs = 20, batch_size = BATCH_SIZE, validation_data = valid_dataset)"
      ],
      "metadata": {
        "colab": {
          "base_uri": "https://localhost:8080/"
        },
        "id": "sAjwo9GD640m",
        "outputId": "25201941-abfe-49e0-cf95-4c1ace3589e5"
      },
      "execution_count": null,
      "outputs": [
        {
          "output_type": "stream",
          "name": "stdout",
          "text": [
            "Epoch 1/20\n",
            "23/23 [==============================] - 147s 3s/step - loss: 0.5578 - acc: 0.7304 - val_loss: 0.3773 - val_acc: 0.8222\n",
            "Epoch 2/20\n",
            "23/23 [==============================] - 40s 2s/step - loss: 0.3516 - acc: 0.8492 - val_loss: 0.2293 - val_acc: 0.9222\n",
            "Epoch 3/20\n",
            "23/23 [==============================] - 36s 1s/step - loss: 0.1837 - acc: 0.9288 - val_loss: 0.1662 - val_acc: 0.9389\n",
            "Epoch 4/20\n",
            "23/23 [==============================] - 36s 2s/step - loss: 0.1058 - acc: 0.9679 - val_loss: 0.1826 - val_acc: 0.9278\n",
            "Epoch 5/20\n",
            "23/23 [==============================] - 39s 2s/step - loss: 0.0459 - acc: 0.9916 - val_loss: 0.1806 - val_acc: 0.9389\n",
            "Epoch 6/20\n",
            "23/23 [==============================] - 39s 2s/step - loss: 0.0107 - acc: 1.0000 - val_loss: 0.3074 - val_acc: 0.9222\n",
            "Epoch 7/20\n",
            "23/23 [==============================] - 36s 2s/step - loss: 0.0199 - acc: 0.9944 - val_loss: 0.2296 - val_acc: 0.9278\n",
            "Epoch 8/20\n",
            "23/23 [==============================] - 37s 2s/step - loss: 0.0265 - acc: 0.9944 - val_loss: 0.1352 - val_acc: 0.9500\n",
            "Epoch 9/20\n",
            "23/23 [==============================] - 37s 2s/step - loss: 0.0218 - acc: 0.9916 - val_loss: 0.1035 - val_acc: 0.9556\n",
            "Epoch 10/20\n",
            "23/23 [==============================] - 36s 2s/step - loss: 0.0224 - acc: 0.9888 - val_loss: 0.0987 - val_acc: 0.9556\n",
            "Epoch 11/20\n",
            "23/23 [==============================] - 36s 2s/step - loss: 0.0111 - acc: 0.9972 - val_loss: 0.2575 - val_acc: 0.9278\n",
            "Epoch 12/20\n",
            "23/23 [==============================] - 39s 2s/step - loss: 0.0118 - acc: 0.9958 - val_loss: 0.1564 - val_acc: 0.9611\n",
            "Epoch 13/20\n",
            "23/23 [==============================] - 36s 2s/step - loss: 0.1716 - acc: 0.9469 - val_loss: 0.1372 - val_acc: 0.9389\n",
            "Epoch 14/20\n",
            "23/23 [==============================] - 37s 2s/step - loss: 0.1097 - acc: 0.9581 - val_loss: 0.3814 - val_acc: 0.8667\n",
            "Epoch 15/20\n",
            "23/23 [==============================] - 36s 2s/step - loss: 0.0318 - acc: 0.9902 - val_loss: 0.1905 - val_acc: 0.9444\n",
            "Epoch 16/20\n",
            "23/23 [==============================] - 39s 2s/step - loss: 0.0063 - acc: 0.9986 - val_loss: 0.2086 - val_acc: 0.9444\n",
            "Epoch 17/20\n",
            "23/23 [==============================] - 36s 2s/step - loss: 0.0052 - acc: 0.9972 - val_loss: 0.4239 - val_acc: 0.8889\n",
            "Epoch 18/20\n",
            "23/23 [==============================] - 37s 2s/step - loss: 0.0084 - acc: 0.9958 - val_loss: 0.2740 - val_acc: 0.9167\n",
            "Epoch 19/20\n",
            "23/23 [==============================] - 39s 2s/step - loss: 0.0313 - acc: 0.9930 - val_loss: 0.3540 - val_acc: 0.9056\n",
            "Epoch 20/20\n",
            "23/23 [==============================] - 36s 2s/step - loss: 0.0160 - acc: 0.9958 - val_loss: 0.2924 - val_acc: 0.9167\n"
          ]
        }
      ]
    },
    {
      "cell_type": "code",
      "source": [
        "# Validation and Test evaluations of ViT model\n",
        "\n",
        "with stg.scope():\n",
        "    print('ViT model results')\n",
        "    print('--'*50)\n",
        "    val_eval_vit = model.evaluate(valid_dataset)\n",
        "    print('Validation Loss: {0:.3f}'.format(val_eval_vit[0]))\n",
        "    print('Validation Accuracy: {0:.3f} %'.format(val_eval_vit[1]*100))\n",
        "    print('--'*50)\n",
        "    test_eval_vit = model.evaluate(test_dataset)\n",
        "    print('Test Loss: {0:.3f}'.format(test_eval_vit[0]))\n",
        "    print('Test Accuracy: {0:.3f} %'.format(test_eval_vit[1]*100))"
      ],
      "metadata": {
        "colab": {
          "base_uri": "https://localhost:8080/"
        },
        "id": "wEPPe3nG7fRN",
        "outputId": "082fed64-2db8-4020-84cd-a79afb9d101e"
      },
      "execution_count": null,
      "outputs": [
        {
          "output_type": "stream",
          "name": "stdout",
          "text": [
            "ViT model results\n",
            "----------------------------------------------------------------------------------------------------\n",
            "6/6 [==============================] - 3s 448ms/step - loss: 0.2924 - acc: 0.9167\n",
            "Validation Loss: 0.292\n",
            "Validation Accuracy: 91.667 %\n",
            "----------------------------------------------------------------------------------------------------\n",
            "7/7 [==============================] - 47s 7s/step - loss: 0.2577 - acc: 0.9062\n",
            "Test Loss: 0.258\n",
            "Test Accuracy: 90.625 %\n"
          ]
        }
      ]
    },
    {
      "cell_type": "code",
      "source": [],
      "metadata": {
        "id": "UH3w-Ou7n7xC"
      },
      "execution_count": null,
      "outputs": []
    },
    {
      "cell_type": "code",
      "source": [
        "# Making Prediction\n",
        "\n",
        "y_pred = np.argmax(model.predict(test_dataset), axis=-1)\n",
        "y_pred"
      ],
      "metadata": {
        "id": "4m5BmcKJC3uF",
        "colab": {
          "base_uri": "https://localhost:8080/"
        },
        "outputId": "c6109ef4-389c-4b9e-bb57-8913b9a5e2e9"
      },
      "execution_count": null,
      "outputs": [
        {
          "output_type": "stream",
          "name": "stdout",
          "text": [
            "7/7 [==============================] - 8s 470ms/step\n"
          ]
        },
        {
          "output_type": "execute_result",
          "data": {
            "text/plain": [
              "array([0, 1, 1, 0, 1, 0, 0, 0, 0, 0, 1, 0, 1, 1, 1, 0, 0, 1, 0, 1, 1, 1,\n",
              "       1, 0, 0, 1, 0, 1, 0, 1, 1, 0, 1, 1, 0, 0, 1, 1, 1, 0, 1, 0, 0, 0,\n",
              "       1, 0, 0, 0, 1, 0, 0, 0, 0, 1, 1, 0, 1, 0, 0, 1, 1, 1, 1, 0, 0, 0,\n",
              "       1, 1, 0, 0, 0, 0, 0, 0, 1, 0, 1, 0, 1, 0, 0, 0, 0, 0, 0, 1, 0, 1,\n",
              "       0, 0, 1, 1, 1, 1, 1, 0, 1, 1, 1, 0, 1, 0, 0, 0, 0, 0, 1, 1, 1, 0,\n",
              "       0, 1, 1, 1, 1, 0, 1, 0, 1, 0, 0, 0, 0, 1, 0, 1, 0, 1, 0, 0, 0, 0,\n",
              "       0, 1, 0, 0, 1, 1, 1, 1, 1, 0, 0, 1, 1, 0, 0, 1, 1, 0, 0, 0, 0, 1,\n",
              "       1, 0, 1, 1, 1, 0, 0, 1, 1, 0, 0, 0, 1, 0, 0, 1, 0, 1, 1, 1, 1, 0,\n",
              "       0, 1, 1, 1, 0, 1, 0, 0, 0, 0, 1, 0, 1, 1, 0, 0, 0, 0, 0, 1, 1, 0,\n",
              "       0, 0, 0, 0, 0, 0, 0, 1, 0, 0, 0, 0, 0, 0, 1, 0, 1, 0, 1, 0, 0, 0,\n",
              "       0, 0, 0, 0])"
            ]
          },
          "metadata": {},
          "execution_count": 15
        }
      ]
    },
    {
      "cell_type": "code",
      "source": [
        "from sklearn.metrics import precision_score, accuracy_score, recall_score, f1_score, confusion_matrix, roc_auc_score, classification_report\n",
        "\n",
        "print(\"Accuracy Score   : {:.2f} %\".format(accuracy_score(y_test, y_pred) * 100))\n",
        "print(\"Precision Score : {:.2f} %\".format(precision_score(y_test, y_pred) * 100))\n",
        "print(\"Recall Score    : {:.2f} %\".format(recall_score(y_test, y_pred) * 100))\n",
        "print(\"F1 Score    : {:.2f} %\".format(f1_score(y_test, y_pred) * 100))\n",
        "print(\"AUC Score    : {:.2f} %\".format(roc_auc_score(y_test, y_pred) * 100))"
      ],
      "metadata": {
        "colab": {
          "base_uri": "https://localhost:8080/"
        },
        "id": "5MZlyDrinnKR",
        "outputId": "4388dc55-9830-4d98-d09a-239edcc8528a"
      },
      "execution_count": null,
      "outputs": [
        {
          "output_type": "stream",
          "name": "stdout",
          "text": [
            "Accuracy Score   : 90.62 %\n",
            "Precision Score : 97.89 %\n",
            "Recall Score    : 83.04 %\n",
            "F1 Score    : 89.86 %\n",
            "AUC Score    : 90.62 %\n"
          ]
        }
      ]
    },
    {
      "cell_type": "code",
      "source": [
        "from sklearn.metrics import ConfusionMatrixDisplay\n",
        "\n",
        "cm = confusion_matrix(y_test,y_pred)\n",
        "cm"
      ],
      "metadata": {
        "colab": {
          "base_uri": "https://localhost:8080/"
        },
        "id": "xIt3pKLhnrqS",
        "outputId": "925fc0bc-ca1c-408f-fe55-c94f7c1488cf"
      },
      "execution_count": null,
      "outputs": [
        {
          "output_type": "execute_result",
          "data": {
            "text/plain": [
              "array([[110,   2],\n",
              "       [ 19,  93]])"
            ]
          },
          "metadata": {},
          "execution_count": 22
        }
      ]
    },
    {
      "cell_type": "code",
      "source": [
        "import seaborn as sns\n",
        "plt.figure(figsize=(10, 5))\n",
        "\n",
        "sns.heatmap(cm,annot=True, fmt=\".1f\", cmap=\"Greens\")"
      ],
      "metadata": {
        "colab": {
          "base_uri": "https://localhost:8080/",
          "height": 463
        },
        "id": "vVnv5rbEoox8",
        "outputId": "c8e596b1-e3d9-463e-8b2c-b34ebb430a89"
      },
      "execution_count": null,
      "outputs": [
        {
          "output_type": "execute_result",
          "data": {
            "text/plain": [
              "<Axes: >"
            ]
          },
          "metadata": {},
          "execution_count": 23
        },
        {
          "output_type": "display_data",
          "data": {
            "text/plain": [
              "<Figure size 1000x500 with 2 Axes>"
            ],
            "image/png": "[encoded data removed]"
          },
          "metadata": {}
        }
      ]
    },
    {
      "cell_type": "code",
      "source": [],
      "metadata": {
        "id": "GacegZqdoxMo"
      },
      "execution_count": null,
      "outputs": []
    }
  ]
}